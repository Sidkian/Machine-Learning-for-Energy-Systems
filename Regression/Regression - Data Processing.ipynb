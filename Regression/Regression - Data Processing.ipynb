{
 "cells": [
  {
   "cell_type": "markdown",
   "metadata": {},
   "source": [
    "# Import"
   ]
  },
  {
   "cell_type": "code",
   "execution_count": 1,
   "metadata": {},
   "outputs": [],
   "source": [
    "import matplotlib\n",
    "import pylab as plt\n",
    "import numpy as np\n",
    "import pandas as pd \n",
    "from numpy import random"
   ]
  },
  {
   "cell_type": "code",
   "execution_count": 2,
   "metadata": {},
   "outputs": [
    {
     "data": {
      "text/html": [
       "<div>\n",
       "<style scoped>\n",
       "    .dataframe tbody tr th:only-of-type {\n",
       "        vertical-align: middle;\n",
       "    }\n",
       "\n",
       "    .dataframe tbody tr th {\n",
       "        vertical-align: top;\n",
       "    }\n",
       "\n",
       "    .dataframe thead th {\n",
       "        text-align: right;\n",
       "    }\n",
       "</style>\n",
       "<table border=\"1\" class=\"dataframe\">\n",
       "  <thead>\n",
       "    <tr style=\"text-align: right;\">\n",
       "      <th></th>\n",
       "      <th>X Coordinate (km)</th>\n",
       "      <th>Y Coordinate (km)</th>\n",
       "      <th>Measured Depth (m)</th>\n",
       "      <th>Deviation (deg)</th>\n",
       "      <th>Abandoned (True/False)</th>\n",
       "      <th>Surface-Casing Weight (kg/m)</th>\n",
       "      <th>Production-Casing Size (mm)</th>\n",
       "      <th>Cumulative GAS Prod. (e3m3)</th>\n",
       "      <th>Month Well Spudded</th>\n",
       "      <th>Classification</th>\n",
       "      <th>Emission Rate (m3/day)</th>\n",
       "    </tr>\n",
       "  </thead>\n",
       "  <tbody>\n",
       "    <tr>\n",
       "      <th>0</th>\n",
       "      <td>588.1</td>\n",
       "      <td>476.3</td>\n",
       "      <td>NaN</td>\n",
       "      <td>NaN</td>\n",
       "      <td>True</td>\n",
       "      <td>NaN</td>\n",
       "      <td>177.8</td>\n",
       "      <td>32683.5</td>\n",
       "      <td>0.0</td>\n",
       "      <td>Non Serious</td>\n",
       "      <td>44.432680</td>\n",
       "    </tr>\n",
       "    <tr>\n",
       "      <th>1</th>\n",
       "      <td>62.4</td>\n",
       "      <td>666.9</td>\n",
       "      <td>491.7</td>\n",
       "      <td>NaN</td>\n",
       "      <td>False</td>\n",
       "      <td>35.7</td>\n",
       "      <td>139.7</td>\n",
       "      <td>NaN</td>\n",
       "      <td>0.0</td>\n",
       "      <td>Non Serious</td>\n",
       "      <td>29.998576</td>\n",
       "    </tr>\n",
       "    <tr>\n",
       "      <th>2</th>\n",
       "      <td>534.4</td>\n",
       "      <td>391.8</td>\n",
       "      <td>NaN</td>\n",
       "      <td>15.690192</td>\n",
       "      <td>True</td>\n",
       "      <td>NaN</td>\n",
       "      <td>177.8</td>\n",
       "      <td>32683.5</td>\n",
       "      <td>0.0</td>\n",
       "      <td>Serious</td>\n",
       "      <td>55.424137</td>\n",
       "    </tr>\n",
       "    <tr>\n",
       "      <th>3</th>\n",
       "      <td>298.7</td>\n",
       "      <td>583.0</td>\n",
       "      <td>NaN</td>\n",
       "      <td>NaN</td>\n",
       "      <td>True</td>\n",
       "      <td>35.7</td>\n",
       "      <td>139.7</td>\n",
       "      <td>32683.6</td>\n",
       "      <td>0.0</td>\n",
       "      <td>Serious</td>\n",
       "      <td>53.076994</td>\n",
       "    </tr>\n",
       "    <tr>\n",
       "      <th>4</th>\n",
       "      <td>513.8</td>\n",
       "      <td>434.9</td>\n",
       "      <td>2598.2</td>\n",
       "      <td>9.273310</td>\n",
       "      <td>False</td>\n",
       "      <td>NaN</td>\n",
       "      <td>114.3</td>\n",
       "      <td>32683.6</td>\n",
       "      <td>843.0</td>\n",
       "      <td>Serious</td>\n",
       "      <td>50.506939</td>\n",
       "    </tr>\n",
       "  </tbody>\n",
       "</table>\n",
       "</div>"
      ],
      "text/plain": [
       "   X Coordinate (km)  Y Coordinate (km)  Measured Depth (m)  Deviation (deg)  \\\n",
       "0              588.1              476.3                 NaN              NaN   \n",
       "1               62.4              666.9               491.7              NaN   \n",
       "2              534.4              391.8                 NaN        15.690192   \n",
       "3              298.7              583.0                 NaN              NaN   \n",
       "4              513.8              434.9              2598.2         9.273310   \n",
       "\n",
       "   Abandoned (True/False)  Surface-Casing Weight (kg/m)  \\\n",
       "0                    True                           NaN   \n",
       "1                   False                          35.7   \n",
       "2                    True                           NaN   \n",
       "3                    True                          35.7   \n",
       "4                   False                           NaN   \n",
       "\n",
       "   Production-Casing Size (mm)  Cumulative GAS Prod. (e3m3)  \\\n",
       "0                        177.8                      32683.5   \n",
       "1                        139.7                          NaN   \n",
       "2                        177.8                      32683.5   \n",
       "3                        139.7                      32683.6   \n",
       "4                        114.3                      32683.6   \n",
       "\n",
       "   Month Well Spudded Classification  Emission Rate (m3/day)  \n",
       "0                 0.0    Non Serious               44.432680  \n",
       "1                 0.0    Non Serious               29.998576  \n",
       "2                 0.0        Serious               55.424137  \n",
       "3                 0.0        Serious               53.076994  \n",
       "4               843.0        Serious               50.506939  "
      ]
     },
     "execution_count": 2,
     "metadata": {},
     "output_type": "execute_result"
    }
   ],
   "source": [
    "# Read data file\n",
    "df= pd.read_csv(\"../GHG_Emission.csv\",na_values=['NA', '?','']) \n",
    "np.random.seed(42)\n",
    "\n",
    "#Rearrange the index order to a random permutation of exising index\n",
    "GHG = df.reindex(np.random.permutation(df.index))\n",
    "\n",
    "# Reset index\n",
    "GHG.reset_index(inplace=True, drop=True)\n",
    "\n",
    "# Display top five rows\n",
    "GHG.head()"
   ]
  },
  {
   "cell_type": "code",
   "execution_count": 3,
   "metadata": {},
   "outputs": [
    {
     "data": {
      "text/html": [
       "<div>\n",
       "<style scoped>\n",
       "    .dataframe tbody tr th:only-of-type {\n",
       "        vertical-align: middle;\n",
       "    }\n",
       "\n",
       "    .dataframe tbody tr th {\n",
       "        vertical-align: top;\n",
       "    }\n",
       "\n",
       "    .dataframe thead th {\n",
       "        text-align: right;\n",
       "    }\n",
       "</style>\n",
       "<table border=\"1\" class=\"dataframe\">\n",
       "  <thead>\n",
       "    <tr style=\"text-align: right;\">\n",
       "      <th></th>\n",
       "      <th>X Coordinate (km)</th>\n",
       "      <th>Y Coordinate (km)</th>\n",
       "      <th>Measured Depth (m)</th>\n",
       "      <th>Deviation (deg)</th>\n",
       "      <th>Surface-Casing Weight (kg/m)</th>\n",
       "      <th>Production-Casing Size (mm)</th>\n",
       "      <th>Cumulative GAS Prod. (e3m3)</th>\n",
       "      <th>Month Well Spudded</th>\n",
       "      <th>Emission Rate (m3/day)</th>\n",
       "    </tr>\n",
       "  </thead>\n",
       "  <tbody>\n",
       "    <tr>\n",
       "      <th>count</th>\n",
       "      <td>1500.000000</td>\n",
       "      <td>1500.000000</td>\n",
       "      <td>1071.000000</td>\n",
       "      <td>556.000000</td>\n",
       "      <td>1140.000000</td>\n",
       "      <td>1392.000000</td>\n",
       "      <td>1148.000000</td>\n",
       "      <td>1500.000000</td>\n",
       "      <td>1500.000000</td>\n",
       "    </tr>\n",
       "    <tr>\n",
       "      <th>mean</th>\n",
       "      <td>445.051933</td>\n",
       "      <td>489.247133</td>\n",
       "      <td>1421.464426</td>\n",
       "      <td>31.400825</td>\n",
       "      <td>41.920000</td>\n",
       "      <td>144.073420</td>\n",
       "      <td>32683.537195</td>\n",
       "      <td>177.501533</td>\n",
       "      <td>50.161205</td>\n",
       "    </tr>\n",
       "    <tr>\n",
       "      <th>std</th>\n",
       "      <td>174.153002</td>\n",
       "      <td>218.796603</td>\n",
       "      <td>943.375914</td>\n",
       "      <td>18.960863</td>\n",
       "      <td>12.611025</td>\n",
       "      <td>26.083219</td>\n",
       "      <td>0.093194</td>\n",
       "      <td>248.301182</td>\n",
       "      <td>9.912002</td>\n",
       "    </tr>\n",
       "    <tr>\n",
       "      <th>min</th>\n",
       "      <td>10.900000</td>\n",
       "      <td>1.400000</td>\n",
       "      <td>158.600000</td>\n",
       "      <td>0.231718</td>\n",
       "      <td>13.700000</td>\n",
       "      <td>73.000000</td>\n",
       "      <td>32683.300000</td>\n",
       "      <td>0.000000</td>\n",
       "      <td>11.750512</td>\n",
       "    </tr>\n",
       "    <tr>\n",
       "      <th>25%</th>\n",
       "      <td>339.300000</td>\n",
       "      <td>368.100000</td>\n",
       "      <td>674.150000</td>\n",
       "      <td>14.642007</td>\n",
       "      <td>35.700000</td>\n",
       "      <td>114.300000</td>\n",
       "      <td>32683.500000</td>\n",
       "      <td>0.000000</td>\n",
       "      <td>43.476749</td>\n",
       "    </tr>\n",
       "    <tr>\n",
       "      <th>50%</th>\n",
       "      <td>509.250000</td>\n",
       "      <td>494.000000</td>\n",
       "      <td>1102.800000</td>\n",
       "      <td>31.660038</td>\n",
       "      <td>35.700000</td>\n",
       "      <td>139.700000</td>\n",
       "      <td>32683.500000</td>\n",
       "      <td>0.000000</td>\n",
       "      <td>50.262507</td>\n",
       "    </tr>\n",
       "    <tr>\n",
       "      <th>75%</th>\n",
       "      <td>592.600000</td>\n",
       "      <td>595.325000</td>\n",
       "      <td>1912.900000</td>\n",
       "      <td>44.343357</td>\n",
       "      <td>48.100000</td>\n",
       "      <td>177.800000</td>\n",
       "      <td>32683.600000</td>\n",
       "      <td>321.000000</td>\n",
       "      <td>56.689195</td>\n",
       "    </tr>\n",
       "    <tr>\n",
       "      <th>max</th>\n",
       "      <td>649.600000</td>\n",
       "      <td>1186.100000</td>\n",
       "      <td>5418.900000</td>\n",
       "      <td>76.894237</td>\n",
       "      <td>107.200000</td>\n",
       "      <td>244.500000</td>\n",
       "      <td>32683.800000</td>\n",
       "      <td>1264.000000</td>\n",
       "      <td>78.843781</td>\n",
       "    </tr>\n",
       "  </tbody>\n",
       "</table>\n",
       "</div>"
      ],
      "text/plain": [
       "       X Coordinate (km)  Y Coordinate (km)  Measured Depth (m)  \\\n",
       "count        1500.000000        1500.000000         1071.000000   \n",
       "mean          445.051933         489.247133         1421.464426   \n",
       "std           174.153002         218.796603          943.375914   \n",
       "min            10.900000           1.400000          158.600000   \n",
       "25%           339.300000         368.100000          674.150000   \n",
       "50%           509.250000         494.000000         1102.800000   \n",
       "75%           592.600000         595.325000         1912.900000   \n",
       "max           649.600000        1186.100000         5418.900000   \n",
       "\n",
       "       Deviation (deg)  Surface-Casing Weight (kg/m)  \\\n",
       "count       556.000000                   1140.000000   \n",
       "mean         31.400825                     41.920000   \n",
       "std          18.960863                     12.611025   \n",
       "min           0.231718                     13.700000   \n",
       "25%          14.642007                     35.700000   \n",
       "50%          31.660038                     35.700000   \n",
       "75%          44.343357                     48.100000   \n",
       "max          76.894237                    107.200000   \n",
       "\n",
       "       Production-Casing Size (mm)  Cumulative GAS Prod. (e3m3)  \\\n",
       "count                  1392.000000                  1148.000000   \n",
       "mean                    144.073420                 32683.537195   \n",
       "std                      26.083219                     0.093194   \n",
       "min                      73.000000                 32683.300000   \n",
       "25%                     114.300000                 32683.500000   \n",
       "50%                     139.700000                 32683.500000   \n",
       "75%                     177.800000                 32683.600000   \n",
       "max                     244.500000                 32683.800000   \n",
       "\n",
       "       Month Well Spudded  Emission Rate (m3/day)  \n",
       "count         1500.000000             1500.000000  \n",
       "mean           177.501533               50.161205  \n",
       "std            248.301182                9.912002  \n",
       "min              0.000000               11.750512  \n",
       "25%              0.000000               43.476749  \n",
       "50%              0.000000               50.262507  \n",
       "75%            321.000000               56.689195  \n",
       "max           1264.000000               78.843781  "
      ]
     },
     "execution_count": 3,
     "metadata": {},
     "output_type": "execute_result"
    }
   ],
   "source": [
    "#Statistical Analysis of the data\n",
    "GHG.describe()"
   ]
  },
  {
   "cell_type": "code",
   "execution_count": 4,
   "metadata": {},
   "outputs": [
    {
     "name": "stdout",
     "output_type": "stream",
     "text": [
      "<class 'pandas.core.frame.DataFrame'>\n",
      "RangeIndex: 1500 entries, 0 to 1499\n",
      "Data columns (total 11 columns):\n",
      " #   Column                        Non-Null Count  Dtype  \n",
      "---  ------                        --------------  -----  \n",
      " 0   X Coordinate (km)             1500 non-null   float64\n",
      " 1   Y Coordinate (km)             1500 non-null   float64\n",
      " 2   Measured Depth (m)            1071 non-null   float64\n",
      " 3   Deviation (deg)               556 non-null    float64\n",
      " 4   Abandoned (True/False)        1500 non-null   bool   \n",
      " 5   Surface-Casing Weight (kg/m)  1140 non-null   float64\n",
      " 6   Production-Casing Size (mm)   1392 non-null   float64\n",
      " 7   Cumulative GAS Prod. (e3m3)   1148 non-null   float64\n",
      " 8   Month Well Spudded            1500 non-null   float64\n",
      " 9   Classification                1500 non-null   object \n",
      " 10  Emission Rate (m3/day)        1500 non-null   float64\n",
      "dtypes: bool(1), float64(9), object(1)\n",
      "memory usage: 118.8+ KB\n"
     ]
    }
   ],
   "source": [
    "GHG.info()"
   ]
  },
  {
   "cell_type": "markdown",
   "metadata": {},
   "source": [
    "From a very quick look at the data we notice a lot of missing values"
   ]
  },
  {
   "cell_type": "markdown",
   "metadata": {},
   "source": [
    "# Data Processing"
   ]
  },
  {
   "cell_type": "markdown",
   "metadata": {},
   "source": [
    "## Removing Outliers"
   ]
  },
  {
   "cell_type": "markdown",
   "metadata": {},
   "source": [
    "Emission Rate values outside the range of 𝜇±2.5𝜎 (𝜇 = mean, 𝜎 = standard deviation) are considered outliers and are removed"
   ]
  },
  {
   "cell_type": "code",
   "execution_count": 5,
   "metadata": {},
   "outputs": [],
   "source": [
    "def outlier_remove(df, n,name):\n",
    "    \"\"\"Delete rows for a specified column where values are out of +/- n*sd standard deviations\n",
    "    df  : Pandas dataframe\n",
    "    n   : n in the equation 𝑚±𝑛𝜎\n",
    "    name: Column name\n",
    "    \"\"\"\n",
    "    mean=df[name].mean() # Calclute mean of column\n",
    "    sd=df[name].std()    # Calclute standard deviation of column\n",
    "    drop_r = df.index[(mean -n * sd> df[name]) | (mean+n * sd< df[name])]\n",
    "    df.drop(drop_r, axis=0, inplace=True)\n",
    "    df.reset_index(inplace=True, drop=True) # Reset index"
   ]
  },
  {
   "cell_type": "code",
   "execution_count": 6,
   "metadata": {},
   "outputs": [
    {
     "name": "stdout",
     "output_type": "stream",
     "text": [
      "<class 'pandas.core.frame.DataFrame'>\n",
      "RangeIndex: 1478 entries, 0 to 1477\n",
      "Data columns (total 11 columns):\n",
      " #   Column                        Non-Null Count  Dtype  \n",
      "---  ------                        --------------  -----  \n",
      " 0   X Coordinate (km)             1478 non-null   float64\n",
      " 1   Y Coordinate (km)             1478 non-null   float64\n",
      " 2   Measured Depth (m)            1056 non-null   float64\n",
      " 3   Deviation (deg)               552 non-null    float64\n",
      " 4   Abandoned (True/False)        1478 non-null   bool   \n",
      " 5   Surface-Casing Weight (kg/m)  1122 non-null   float64\n",
      " 6   Production-Casing Size (mm)   1371 non-null   float64\n",
      " 7   Cumulative GAS Prod. (e3m3)   1130 non-null   float64\n",
      " 8   Month Well Spudded            1478 non-null   float64\n",
      " 9   Classification                1478 non-null   object \n",
      " 10  Emission Rate (m3/day)        1478 non-null   float64\n",
      "dtypes: bool(1), float64(9), object(1)\n",
      "memory usage: 117.0+ KB\n"
     ]
    }
   ],
   "source": [
    "# Drop outliers in last column 'Emission Rate (m3/day)'\n",
    "outlier_remove(GHG, n=2.5,name='Emission Rate (m3/day)') \n",
    "GHG.info()"
   ]
  },
  {
   "cell_type": "markdown",
   "metadata": {},
   "source": [
    "# Regression"
   ]
  },
  {
   "cell_type": "markdown",
   "metadata": {},
   "source": [
    "We can drop 'Classification' column"
   ]
  },
  {
   "cell_type": "code",
   "execution_count": 7,
   "metadata": {},
   "outputs": [],
   "source": [
    "#Drop 'Classification' column\n",
    "GHG=GHG.drop('Classification',axis=1)"
   ]
  },
  {
   "cell_type": "markdown",
   "metadata": {},
   "source": [
    "## Split the data"
   ]
  },
  {
   "cell_type": "markdown",
   "metadata": {},
   "source": [
    "Data is divided into a 80/20 split of training set and test set "
   ]
  },
  {
   "cell_type": "code",
   "execution_count": 8,
   "metadata": {},
   "outputs": [
    {
     "data": {
      "text/html": [
       "<div>\n",
       "<style scoped>\n",
       "    .dataframe tbody tr th:only-of-type {\n",
       "        vertical-align: middle;\n",
       "    }\n",
       "\n",
       "    .dataframe tbody tr th {\n",
       "        vertical-align: top;\n",
       "    }\n",
       "\n",
       "    .dataframe thead th {\n",
       "        text-align: right;\n",
       "    }\n",
       "</style>\n",
       "<table border=\"1\" class=\"dataframe\">\n",
       "  <thead>\n",
       "    <tr style=\"text-align: right;\">\n",
       "      <th></th>\n",
       "      <th>X Coordinate (km)</th>\n",
       "      <th>Y Coordinate (km)</th>\n",
       "      <th>Measured Depth (m)</th>\n",
       "      <th>Deviation (deg)</th>\n",
       "      <th>Abandoned (True/False)</th>\n",
       "      <th>Surface-Casing Weight (kg/m)</th>\n",
       "      <th>Production-Casing Size (mm)</th>\n",
       "      <th>Cumulative GAS Prod. (e3m3)</th>\n",
       "      <th>Month Well Spudded</th>\n",
       "    </tr>\n",
       "  </thead>\n",
       "  <tbody>\n",
       "    <tr>\n",
       "      <th>0</th>\n",
       "      <td>384.8</td>\n",
       "      <td>230.3</td>\n",
       "      <td>959.4</td>\n",
       "      <td>NaN</td>\n",
       "      <td>True</td>\n",
       "      <td>41.6</td>\n",
       "      <td>139.7</td>\n",
       "      <td>32683.5</td>\n",
       "      <td>0.0</td>\n",
       "    </tr>\n",
       "    <tr>\n",
       "      <th>1</th>\n",
       "      <td>294.3</td>\n",
       "      <td>548.7</td>\n",
       "      <td>2504.7</td>\n",
       "      <td>47.479024</td>\n",
       "      <td>False</td>\n",
       "      <td>NaN</td>\n",
       "      <td>177.8</td>\n",
       "      <td>32683.6</td>\n",
       "      <td>0.0</td>\n",
       "    </tr>\n",
       "    <tr>\n",
       "      <th>2</th>\n",
       "      <td>499.0</td>\n",
       "      <td>83.8</td>\n",
       "      <td>569.5</td>\n",
       "      <td>NaN</td>\n",
       "      <td>True</td>\n",
       "      <td>35.7</td>\n",
       "      <td>114.3</td>\n",
       "      <td>32683.5</td>\n",
       "      <td>174.7</td>\n",
       "    </tr>\n",
       "    <tr>\n",
       "      <th>3</th>\n",
       "      <td>497.6</td>\n",
       "      <td>79.1</td>\n",
       "      <td>2322.3</td>\n",
       "      <td>50.696513</td>\n",
       "      <td>True</td>\n",
       "      <td>NaN</td>\n",
       "      <td>177.8</td>\n",
       "      <td>32683.6</td>\n",
       "      <td>469.0</td>\n",
       "    </tr>\n",
       "    <tr>\n",
       "      <th>4</th>\n",
       "      <td>515.8</td>\n",
       "      <td>153.2</td>\n",
       "      <td>2480.9</td>\n",
       "      <td>9.609100</td>\n",
       "      <td>False</td>\n",
       "      <td>53.6</td>\n",
       "      <td>177.8</td>\n",
       "      <td>32683.6</td>\n",
       "      <td>0.0</td>\n",
       "    </tr>\n",
       "  </tbody>\n",
       "</table>\n",
       "</div>"
      ],
      "text/plain": [
       "   X Coordinate (km)  Y Coordinate (km)  Measured Depth (m)  Deviation (deg)  \\\n",
       "0              384.8              230.3               959.4              NaN   \n",
       "1              294.3              548.7              2504.7        47.479024   \n",
       "2              499.0               83.8               569.5              NaN   \n",
       "3              497.6               79.1              2322.3        50.696513   \n",
       "4              515.8              153.2              2480.9         9.609100   \n",
       "\n",
       "   Abandoned (True/False)  Surface-Casing Weight (kg/m)  \\\n",
       "0                    True                          41.6   \n",
       "1                   False                           NaN   \n",
       "2                    True                          35.7   \n",
       "3                    True                           NaN   \n",
       "4                   False                          53.6   \n",
       "\n",
       "   Production-Casing Size (mm)  Cumulative GAS Prod. (e3m3)  \\\n",
       "0                        139.7                      32683.5   \n",
       "1                        177.8                      32683.6   \n",
       "2                        114.3                      32683.5   \n",
       "3                        177.8                      32683.6   \n",
       "4                        177.8                      32683.6   \n",
       "\n",
       "   Month Well Spudded  \n",
       "0                 0.0  \n",
       "1                 0.0  \n",
       "2               174.7  \n",
       "3               469.0  \n",
       "4                 0.0  "
      ]
     },
     "execution_count": 8,
     "metadata": {},
     "output_type": "execute_result"
    }
   ],
   "source": [
    "#split the data using train_test_split\n",
    "from sklearn.model_selection import train_test_split\n",
    "\n",
    "train_set, test_set = train_test_split(GHG, test_size=0.2, random_state=42)\n",
    "\n",
    "for dataset in (train_set, test_set):\n",
    "    dataset.reset_index(inplace=True, drop=True) # Reset index\n",
    "\n",
    "x_train = train_set.drop(\"Emission Rate (m3/day)\",axis=1)\n",
    "y_train = train_set[\"Emission Rate (m3/day)\"]\n",
    "x_test = test_set.drop(\"Emission Rate (m3/day)\",axis=1)\n",
    "y_test = test_set[\"Emission Rate (m3/day)\"]\n",
    "\n",
    "x_train.head()"
   ]
  },
  {
   "cell_type": "code",
   "execution_count": 27,
   "metadata": {},
   "outputs": [],
   "source": [
    "# Save training dataframe for visualization\n",
    "pd.concat([x_train,y_train],axis=1).to_csv(\"./Data/regression_train_vis.csv\",index=False)"
   ]
  },
  {
   "cell_type": "markdown",
   "metadata": {},
   "source": [
    "## Imputation "
   ]
  },
  {
   "cell_type": "code",
   "execution_count": 9,
   "metadata": {},
   "outputs": [],
   "source": [
    "from sklearn.impute import SimpleImputer\n",
    "\n",
    "#Imputs median\n",
    "imput_mdn = SimpleImputer(strategy=\"median\") "
   ]
  },
  {
   "cell_type": "code",
   "execution_count": 10,
   "metadata": {},
   "outputs": [],
   "source": [
    "#Select numerical columns that need to be imputed with median\n",
    "numcolumns = x_train.drop('Abandoned (True/False)',axis=1)"
   ]
  },
  {
   "cell_type": "code",
   "execution_count": 11,
   "metadata": {},
   "outputs": [],
   "source": [
    "#Calucate median and impute into missing values\n",
    "x_train_im = imput_mdn.fit_transform(numcolumns)"
   ]
  },
  {
   "cell_type": "code",
   "execution_count": 12,
   "metadata": {},
   "outputs": [
    {
     "name": "stdout",
     "output_type": "stream",
     "text": [
      "<class 'pandas.core.frame.DataFrame'>\n",
      "RangeIndex: 1182 entries, 0 to 1181\n",
      "Data columns (total 8 columns):\n",
      " #   Column                        Non-Null Count  Dtype  \n",
      "---  ------                        --------------  -----  \n",
      " 0   X Coordinate (km)             1182 non-null   float64\n",
      " 1   Y Coordinate (km)             1182 non-null   float64\n",
      " 2   Measured Depth (m)            1182 non-null   float64\n",
      " 3   Deviation (deg)               1182 non-null   float64\n",
      " 4   Surface-Casing Weight (kg/m)  1182 non-null   float64\n",
      " 5   Production-Casing Size (mm)   1182 non-null   float64\n",
      " 6   Cumulative GAS Prod. (e3m3)   1182 non-null   float64\n",
      " 7   Month Well Spudded            1182 non-null   float64\n",
      "dtypes: float64(8)\n",
      "memory usage: 74.0 KB\n"
     ]
    }
   ],
   "source": [
    "#Create imputed dataframe\n",
    "x_train_im = pd.DataFrame(x_train_im,columns=numcolumns.columns)\n",
    "x_train_im.info()"
   ]
  },
  {
   "cell_type": "code",
   "execution_count": 13,
   "metadata": {},
   "outputs": [],
   "source": [
    "#Transform test dataset using median from train dataset\n",
    "x_test_im = imput_mdn.transform(x_test.drop('Abandoned (True/False)',axis=1))\n",
    "x_test_im = pd.DataFrame(x_test_im,columns=numcolumns.columns) "
   ]
  },
  {
   "cell_type": "markdown",
   "metadata": {},
   "source": [
    "## Text Handling"
   ]
  },
  {
   "cell_type": "code",
   "execution_count": 14,
   "metadata": {},
   "outputs": [],
   "source": [
    "from sklearn.preprocessing import OneHotEncoder\n",
    "\n",
    "#Transforms text data into multiple columns of 1 and 0\n",
    "cat_encoder = OneHotEncoder()"
   ]
  },
  {
   "cell_type": "code",
   "execution_count": 15,
   "metadata": {},
   "outputs": [],
   "source": [
    "#Select text columns that need to be one hot encoded\n",
    "txtcolumns = x_train[['Abandoned (True/False)']]"
   ]
  },
  {
   "cell_type": "code",
   "execution_count": 16,
   "metadata": {},
   "outputs": [
    {
     "data": {
      "text/plain": [
       "array([[0., 1.],\n",
       "       [1., 0.],\n",
       "       [0., 1.],\n",
       "       [0., 1.],\n",
       "       [1., 0.],\n",
       "       [0., 1.],\n",
       "       [0., 1.],\n",
       "       [0., 1.],\n",
       "       [0., 1.],\n",
       "       [0., 1.]])"
      ]
     },
     "execution_count": 16,
     "metadata": {},
     "output_type": "execute_result"
    }
   ],
   "source": [
    "#Fit & transform the data to be one hot encoded\n",
    "x_train_text = cat_encoder.fit_transform(txtcolumns)\n",
    "x_train_text = x_train_text.toarray()\n",
    "x_train_text[0:10]"
   ]
  },
  {
   "cell_type": "code",
   "execution_count": 17,
   "metadata": {},
   "outputs": [],
   "source": [
    "#Transform test data based on training data\n",
    "x_test_text = cat_encoder.transform(x_test[['Abandoned (True/False)']])\n",
    "x_test_text = x_test_text.toarray()"
   ]
  },
  {
   "cell_type": "markdown",
   "metadata": {},
   "source": [
    "## Standardization"
   ]
  },
  {
   "cell_type": "code",
   "execution_count": 18,
   "metadata": {},
   "outputs": [],
   "source": [
    "from sklearn.preprocessing import StandardScaler\n",
    "\n",
    "#As the columns are in different units we must standardize the data\n",
    "scaler = StandardScaler()"
   ]
  },
  {
   "cell_type": "code",
   "execution_count": 19,
   "metadata": {},
   "outputs": [
    {
     "data": {
      "text/plain": [
       "array([[-0.33088007, -1.16981778, -0.47024137,  0.01210518,  0.09920808,\n",
       "        -0.1681966 , -0.3329649 , -0.71545354],\n",
       "       [-0.84894367,  0.28161131,  1.41736806,  1.31755322, -0.43595384,\n",
       "         1.33936633,  0.8669269 , -0.71545354],\n",
       "       [ 0.32285323, -1.83763927, -0.94651065,  0.01210518, -0.43595384,\n",
       "        -1.17323855, -0.3329649 , -0.02162736],\n",
       "       [ 0.31483899, -1.85906426,  1.19456345,  1.58942698, -0.43595384,\n",
       "         1.33936633,  0.8669269 ,  1.14719372],\n",
       "       [ 0.41902415, -1.52127879,  1.38829596, -1.88240715,  1.18767302,\n",
       "         1.33936633,  0.8669269 , -0.71545354]])"
      ]
     },
     "execution_count": 19,
     "metadata": {},
     "output_type": "execute_result"
    }
   ],
   "source": [
    "#Fit & Transform the data\n",
    "x_train_std = scaler.fit_transform(x_train_im)\n",
    "x_train_std[0:5]"
   ]
  },
  {
   "cell_type": "code",
   "execution_count": 20,
   "metadata": {},
   "outputs": [],
   "source": [
    "#Transform the test data\n",
    "x_test_std = scaler.transform(x_test_im)"
   ]
  },
  {
   "cell_type": "markdown",
   "metadata": {},
   "source": [
    "## Concatenate"
   ]
  },
  {
   "cell_type": "code",
   "execution_count": 21,
   "metadata": {},
   "outputs": [
    {
     "data": {
      "text/plain": [
       "array([[-0.33088007, -1.16981778, -0.47024137,  0.01210518,  0.        ,\n",
       "         1.        ,  0.09920808, -0.1681966 , -0.3329649 , -0.71545354],\n",
       "       [-0.84894367,  0.28161131,  1.41736806,  1.31755322,  1.        ,\n",
       "         0.        , -0.43595384,  1.33936633,  0.8669269 , -0.71545354],\n",
       "       [ 0.32285323, -1.83763927, -0.94651065,  0.01210518,  0.        ,\n",
       "         1.        , -0.43595384, -1.17323855, -0.3329649 , -0.02162736],\n",
       "       [ 0.31483899, -1.85906426,  1.19456345,  1.58942698,  0.        ,\n",
       "         1.        , -0.43595384,  1.33936633,  0.8669269 ,  1.14719372],\n",
       "       [ 0.41902415, -1.52127879,  1.38829596, -1.88240715,  1.        ,\n",
       "         0.        ,  1.18767302,  1.33936633,  0.8669269 , -0.71545354]])"
      ]
     },
     "execution_count": 21,
     "metadata": {},
     "output_type": "execute_result"
    }
   ],
   "source": [
    "#Concatenate all processed and scaled training data\n",
    "x_train_reg = np.concatenate((x_train_std[:,:4],x_train_text,x_train_std[:,4:]),axis=1)\n",
    "x_train_reg[0:5]"
   ]
  },
  {
   "cell_type": "code",
   "execution_count": 22,
   "metadata": {},
   "outputs": [],
   "source": [
    "#Concatenate all processed and scaled test data\n",
    "x_test_reg = np.concatenate((x_test_std[:,:4],x_test_text,x_test_std[:,4:]),axis=1)"
   ]
  },
  {
   "cell_type": "markdown",
   "metadata": {},
   "source": [
    "# Save Regression Data"
   ]
  },
  {
   "cell_type": "code",
   "execution_count": 23,
   "metadata": {},
   "outputs": [
    {
     "data": {
      "text/html": [
       "<div>\n",
       "<style scoped>\n",
       "    .dataframe tbody tr th:only-of-type {\n",
       "        vertical-align: middle;\n",
       "    }\n",
       "\n",
       "    .dataframe tbody tr th {\n",
       "        vertical-align: top;\n",
       "    }\n",
       "\n",
       "    .dataframe thead th {\n",
       "        text-align: right;\n",
       "    }\n",
       "</style>\n",
       "<table border=\"1\" class=\"dataframe\">\n",
       "  <thead>\n",
       "    <tr style=\"text-align: right;\">\n",
       "      <th></th>\n",
       "      <th>X Coordinate (km)</th>\n",
       "      <th>Y Coordinate (km)</th>\n",
       "      <th>Measured Depth (m)</th>\n",
       "      <th>Deviation (deg)</th>\n",
       "      <th>Abandoned (False)</th>\n",
       "      <th>Abandoned (True)</th>\n",
       "      <th>Surface-Casing Weight (kg/m)</th>\n",
       "      <th>Production-Casing Size (mm)</th>\n",
       "      <th>Cumulative GAS Prod. (e3m3)</th>\n",
       "      <th>Month Well Spudded</th>\n",
       "      <th>Emission Rate (m3/day)</th>\n",
       "    </tr>\n",
       "  </thead>\n",
       "  <tbody>\n",
       "    <tr>\n",
       "      <th>0</th>\n",
       "      <td>-0.330880</td>\n",
       "      <td>-1.169818</td>\n",
       "      <td>-0.470241</td>\n",
       "      <td>0.012105</td>\n",
       "      <td>0.0</td>\n",
       "      <td>1.0</td>\n",
       "      <td>0.099208</td>\n",
       "      <td>-0.168197</td>\n",
       "      <td>-0.332965</td>\n",
       "      <td>-0.715454</td>\n",
       "      <td>42.620033</td>\n",
       "    </tr>\n",
       "    <tr>\n",
       "      <th>1</th>\n",
       "      <td>-0.848944</td>\n",
       "      <td>0.281611</td>\n",
       "      <td>1.417368</td>\n",
       "      <td>1.317553</td>\n",
       "      <td>1.0</td>\n",
       "      <td>0.0</td>\n",
       "      <td>-0.435954</td>\n",
       "      <td>1.339366</td>\n",
       "      <td>0.866927</td>\n",
       "      <td>-0.715454</td>\n",
       "      <td>51.237935</td>\n",
       "    </tr>\n",
       "    <tr>\n",
       "      <th>2</th>\n",
       "      <td>0.322853</td>\n",
       "      <td>-1.837639</td>\n",
       "      <td>-0.946511</td>\n",
       "      <td>0.012105</td>\n",
       "      <td>0.0</td>\n",
       "      <td>1.0</td>\n",
       "      <td>-0.435954</td>\n",
       "      <td>-1.173239</td>\n",
       "      <td>-0.332965</td>\n",
       "      <td>-0.021627</td>\n",
       "      <td>31.671919</td>\n",
       "    </tr>\n",
       "    <tr>\n",
       "      <th>3</th>\n",
       "      <td>0.314839</td>\n",
       "      <td>-1.859064</td>\n",
       "      <td>1.194563</td>\n",
       "      <td>1.589427</td>\n",
       "      <td>0.0</td>\n",
       "      <td>1.0</td>\n",
       "      <td>-0.435954</td>\n",
       "      <td>1.339366</td>\n",
       "      <td>0.866927</td>\n",
       "      <td>1.147194</td>\n",
       "      <td>50.264058</td>\n",
       "    </tr>\n",
       "    <tr>\n",
       "      <th>4</th>\n",
       "      <td>0.419024</td>\n",
       "      <td>-1.521279</td>\n",
       "      <td>1.388296</td>\n",
       "      <td>-1.882407</td>\n",
       "      <td>1.0</td>\n",
       "      <td>0.0</td>\n",
       "      <td>1.187673</td>\n",
       "      <td>1.339366</td>\n",
       "      <td>0.866927</td>\n",
       "      <td>-0.715454</td>\n",
       "      <td>70.277448</td>\n",
       "    </tr>\n",
       "    <tr>\n",
       "      <th>...</th>\n",
       "      <td>...</td>\n",
       "      <td>...</td>\n",
       "      <td>...</td>\n",
       "      <td>...</td>\n",
       "      <td>...</td>\n",
       "      <td>...</td>\n",
       "      <td>...</td>\n",
       "      <td>...</td>\n",
       "      <td>...</td>\n",
       "      <td>...</td>\n",
       "      <td>...</td>\n",
       "    </tr>\n",
       "    <tr>\n",
       "      <th>1177</th>\n",
       "      <td>0.950826</td>\n",
       "      <td>0.115226</td>\n",
       "      <td>-0.506887</td>\n",
       "      <td>0.012105</td>\n",
       "      <td>0.0</td>\n",
       "      <td>1.0</td>\n",
       "      <td>0.688793</td>\n",
       "      <td>1.339366</td>\n",
       "      <td>0.866927</td>\n",
       "      <td>-0.715454</td>\n",
       "      <td>52.964451</td>\n",
       "    </tr>\n",
       "    <tr>\n",
       "      <th>1178</th>\n",
       "      <td>-0.248448</td>\n",
       "      <td>0.063715</td>\n",
       "      <td>-0.286281</td>\n",
       "      <td>0.012105</td>\n",
       "      <td>0.0</td>\n",
       "      <td>1.0</td>\n",
       "      <td>-0.435954</td>\n",
       "      <td>1.339366</td>\n",
       "      <td>-0.332965</td>\n",
       "      <td>-0.715454</td>\n",
       "      <td>43.555976</td>\n",
       "    </tr>\n",
       "    <tr>\n",
       "      <th>1179</th>\n",
       "      <td>1.105959</td>\n",
       "      <td>-0.370711</td>\n",
       "      <td>-0.286281</td>\n",
       "      <td>0.695828</td>\n",
       "      <td>0.0</td>\n",
       "      <td>1.0</td>\n",
       "      <td>-0.435954</td>\n",
       "      <td>-1.173239</td>\n",
       "      <td>0.866927</td>\n",
       "      <td>-0.715454</td>\n",
       "      <td>62.929801</td>\n",
       "    </tr>\n",
       "    <tr>\n",
       "      <th>1180</th>\n",
       "      <td>0.965710</td>\n",
       "      <td>0.469422</td>\n",
       "      <td>-0.286281</td>\n",
       "      <td>0.012105</td>\n",
       "      <td>0.0</td>\n",
       "      <td>1.0</td>\n",
       "      <td>-1.379290</td>\n",
       "      <td>-1.173239</td>\n",
       "      <td>-0.332965</td>\n",
       "      <td>-0.715454</td>\n",
       "      <td>58.452586</td>\n",
       "    </tr>\n",
       "    <tr>\n",
       "      <th>1181</th>\n",
       "      <td>1.117408</td>\n",
       "      <td>-0.123640</td>\n",
       "      <td>-0.286281</td>\n",
       "      <td>0.147602</td>\n",
       "      <td>0.0</td>\n",
       "      <td>1.0</td>\n",
       "      <td>1.994951</td>\n",
       "      <td>-0.168197</td>\n",
       "      <td>2.066819</td>\n",
       "      <td>-0.715454</td>\n",
       "      <td>59.325129</td>\n",
       "    </tr>\n",
       "  </tbody>\n",
       "</table>\n",
       "<p>1182 rows × 11 columns</p>\n",
       "</div>"
      ],
      "text/plain": [
       "      X Coordinate (km)  Y Coordinate (km)  Measured Depth (m)  \\\n",
       "0             -0.330880          -1.169818           -0.470241   \n",
       "1             -0.848944           0.281611            1.417368   \n",
       "2              0.322853          -1.837639           -0.946511   \n",
       "3              0.314839          -1.859064            1.194563   \n",
       "4              0.419024          -1.521279            1.388296   \n",
       "...                 ...                ...                 ...   \n",
       "1177           0.950826           0.115226           -0.506887   \n",
       "1178          -0.248448           0.063715           -0.286281   \n",
       "1179           1.105959          -0.370711           -0.286281   \n",
       "1180           0.965710           0.469422           -0.286281   \n",
       "1181           1.117408          -0.123640           -0.286281   \n",
       "\n",
       "      Deviation (deg)  Abandoned (False)  Abandoned (True)  \\\n",
       "0            0.012105                0.0               1.0   \n",
       "1            1.317553                1.0               0.0   \n",
       "2            0.012105                0.0               1.0   \n",
       "3            1.589427                0.0               1.0   \n",
       "4           -1.882407                1.0               0.0   \n",
       "...               ...                ...               ...   \n",
       "1177         0.012105                0.0               1.0   \n",
       "1178         0.012105                0.0               1.0   \n",
       "1179         0.695828                0.0               1.0   \n",
       "1180         0.012105                0.0               1.0   \n",
       "1181         0.147602                0.0               1.0   \n",
       "\n",
       "      Surface-Casing Weight (kg/m)  Production-Casing Size (mm)  \\\n",
       "0                         0.099208                    -0.168197   \n",
       "1                        -0.435954                     1.339366   \n",
       "2                        -0.435954                    -1.173239   \n",
       "3                        -0.435954                     1.339366   \n",
       "4                         1.187673                     1.339366   \n",
       "...                            ...                          ...   \n",
       "1177                      0.688793                     1.339366   \n",
       "1178                     -0.435954                     1.339366   \n",
       "1179                     -0.435954                    -1.173239   \n",
       "1180                     -1.379290                    -1.173239   \n",
       "1181                      1.994951                    -0.168197   \n",
       "\n",
       "      Cumulative GAS Prod. (e3m3)  Month Well Spudded  Emission Rate (m3/day)  \n",
       "0                       -0.332965           -0.715454               42.620033  \n",
       "1                        0.866927           -0.715454               51.237935  \n",
       "2                       -0.332965           -0.021627               31.671919  \n",
       "3                        0.866927            1.147194               50.264058  \n",
       "4                        0.866927           -0.715454               70.277448  \n",
       "...                           ...                 ...                     ...  \n",
       "1177                     0.866927           -0.715454               52.964451  \n",
       "1178                    -0.332965           -0.715454               43.555976  \n",
       "1179                     0.866927           -0.715454               62.929801  \n",
       "1180                    -0.332965           -0.715454               58.452586  \n",
       "1181                     2.066819           -0.715454               59.325129  \n",
       "\n",
       "[1182 rows x 11 columns]"
      ]
     },
     "execution_count": 23,
     "metadata": {},
     "output_type": "execute_result"
    }
   ],
   "source": [
    "# Concatenate training attributes and target into one dataframe\n",
    "train_reg = pd.concat([pd.DataFrame(x_train_reg,columns=['X Coordinate (km)','Y Coordinate (km)', 'Measured Depth (m)',\n",
    "                                                'Deviation (deg)','Abandoned (False)','Abandoned (True)',\n",
    "                                                'Surface-Casing Weight (kg/m)','Production-Casing Size (mm)',\n",
    "                                                'Cumulative GAS Prod. (e3m3)','Month Well Spudded']),\n",
    "                        y_train],axis=1)\n",
    "train_reg"
   ]
  },
  {
   "cell_type": "code",
   "execution_count": 24,
   "metadata": {},
   "outputs": [],
   "source": [
    "# Save training data to a csv\n",
    "train_reg.to_csv(\"./Data/regression_train.csv\",index=False)"
   ]
  },
  {
   "cell_type": "code",
   "execution_count": 25,
   "metadata": {},
   "outputs": [],
   "source": [
    "# Concatenate test attributes and target into one dataframe\n",
    "test_reg = pd.concat([pd.DataFrame(x_test_reg,columns=['X Coordinate (km)','Y Coordinate (km)', 'Measured Depth (m)',\n",
    "                                                'Deviation (deg)','Abandoned (False)','Abandoned (True)',\n",
    "                                                'Surface-Casing Weight (kg/m)','Production-Casing Size (mm)',\n",
    "                                                'Cumulative GAS Prod. (e3m3)','Month Well Spudded']),\n",
    "                        y_test],axis=1)"
   ]
  },
  {
   "cell_type": "code",
   "execution_count": 26,
   "metadata": {},
   "outputs": [],
   "source": [
    "# Save test data to a csv\n",
    "test_reg.to_csv(\"./Data/regression_test.csv\",index=False)"
   ]
  }
 ],
 "metadata": {
  "kernelspec": {
   "display_name": "Python 3 (ipykernel)",
   "language": "python",
   "name": "python3"
  },
  "language_info": {
   "codemirror_mode": {
    "name": "ipython",
    "version": 3
   },
   "file_extension": ".py",
   "mimetype": "text/x-python",
   "name": "python",
   "nbconvert_exporter": "python",
   "pygments_lexer": "ipython3",
   "version": "3.11.3"
  }
 },
 "nbformat": 4,
 "nbformat_minor": 2
}
